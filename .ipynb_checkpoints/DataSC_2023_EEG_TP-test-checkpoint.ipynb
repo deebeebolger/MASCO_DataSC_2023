{
 "cells": [
  {
   "cell_type": "markdown",
   "metadata": {},
   "source": []
  },
  {
   "cell_type": "markdown",
   "metadata": {},
   "source": [
    "<div class=\"alert-warning\">\n",
    "\n",
    "# <center>Short Jupyter Script to Test Installation</center>\n",
    "\n",
    "This is a very short script to enable you to test your python, mne and Jupyter installation.\n",
    "It uploads an EEG dataset (in *python-raw.fif* format) and should plot the electroencephalogram in a separate window, which allows you to scroll through the data, to zoom in and to select individual electrodes.\n",
    "You can zoom and dezoom by using the + and - keys, respectively.\n",
    "Note the dataset needs to be a folder named, \"Data\", in your Jupyter \"Home\" page.\n",
    "\n",
    "\n",
    "\n",
    "</div>"
   ]
  },
  {
   "cell_type": "code",
   "execution_count": null,
   "metadata": {
    "collapsed": true,
    "jupyter": {
     "outputs_hidden": true
    }
   },
   "outputs": [],
   "source": [
    "import mne\n",
    "\n",
    "file2read = 'python-raw.fif'   # Define the path to dataset and the dataset title.\n",
    "\n",
    "rawIn = mne.io.read_raw_fif(file2read, preload=True) # The rawIn variable is our raw object."
   ]
  },
  {
   "cell_type": "code",
   "execution_count": null,
   "metadata": {
    "collapsed": false,
    "jupyter": {
     "outputs_hidden": false
    },
    "pycharm": {
     "name": "#%%\n"
    }
   },
   "outputs": [],
   "source": [
    "# Plot the data that you loaded. \n",
    "\n",
    "% matplotlib widget\n",
    "# We can visualise both the EEG and MEG continuous data.\n",
    "\n",
    "mne.viz.plot_raw(rawIn, events=None, duration=10.0, n_channels=10, title='Raw EEG Data')"
   ]
  }
 ],
 "metadata": {
  "kernelspec": {
   "display_name": "Python 3 (ipykernel)",
   "language": "python",
   "name": "python3"
  },
  "language_info": {
   "codemirror_mode": {
    "name": "ipython",
    "version": 3
   },
   "file_extension": ".py",
   "mimetype": "text/x-python",
   "name": "python",
   "nbconvert_exporter": "python",
   "pygments_lexer": "ipython3",
   "version": "3.9.1"
  }
 },
 "nbformat": 4,
 "nbformat_minor": 4
}
