{
 "cells": [
  {
   "cell_type": "code",
   "execution_count": null,
   "id": "1462b582-2506-4f0c-9d51-12d283a8b2cf",
   "metadata": {},
   "outputs": [],
   "source": [
    "# PREPARING EEG DATA FOR ANALYSIS: BASIC STEPS\n",
    "\n"
   ]
  },
  {
   "cell_type": "markdown",
   "id": "76ad4874-e3b1-4fed-98e7-dff8c73c88bf",
   "metadata": {},
   "source": [
    "## THE SAMPLING FREQUENCY (Hz) AND DOWNSAMPLING\n",
    "\n",
    "Represents the number of times per second that the acquisition system samples the continuous EEG.\n",
    "So, given sampling frequency (or sampling rate) of 1024Hz, this means that the system samples the signal every ______ seconds?\n",
    "\n",
    "The sampling rate has an effect on the analyses that we can carry out on the EEG.\n",
    "For example, if we are interested interested in studying EEG activity around 80Hz, sampling frequency needs to be **at least** twice this frequency of interest - this is the **Nyquist Rule**.\n",
    "\n",
    "However, having a high sampling frequency also implies having a greater volume of data. This can mean longer computing times when we are analysing our data.\n",
    "Generally, in EEG analysis, we are interested in activity in the 0.1Hz to 80Hz frequency band. This means that we do not necessarily need to have a sampling frequency as high as 1024Hz; a sampling frequency of 512Hz or 250Hz will be sufficient to capture the characteristics of the EEG of interest.\n",
    "\n",
    "To reduce the rate at which our EEG is sampled, we can **resample** or **downsample** our data.\n",
    "- How does resampling change the EEG signal?\n",
    "- What other variable is automatically changed when we resample the EEG data?"
   ]
  },
  {
   "cell_type": "code",
   "execution_count": null,
   "id": "ea4e4320-f1d6-4091-984c-7abebcb644b3",
   "metadata": {
    "collapsed": false,
    "jupyter": {
     "outputs_hidden": false
    },
    "pycharm": {
     "name": "#%%\n"
    }
   },
   "outputs": [],
   "source": [
    "rsamp = srate/2                                    # Downsample to half of the original sampling frequency.\n",
    "RawIn_rs = RawIn.copy().resample(sfreq=rsamp)      # Create a copy of RawIn and apply downsampling to this copy."
   ]
  }
 ],
 "metadata": {
  "kernelspec": {
   "display_name": "",
   "name": ""
  },
  "language_info": {
   "name": ""
  }
 },
 "nbformat": 4,
 "nbformat_minor": 5
}
