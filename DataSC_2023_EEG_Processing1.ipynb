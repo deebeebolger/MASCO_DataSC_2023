{
 "cells": [
  {
   "cell_type": "markdown",
   "id": "fd97c42b-c794-497a-8df5-dfa5542050a5",
   "metadata": {},
   "source": [
    "# ******* Preparing the data for analysis **********************\n",
    "\n",
    "The following script is an overview of the basic steps applied to prepare the data for analysis.\n",
    "This is called *pre-processing* and involves quite simply cleaning the data. \n",
    "The steps applied here are:\n",
    "- Downsampling\n",
    "- Filtering \n",
    "- Re-referencing\n",
    "- Detecting noisy electrodes\n"
   ]
  },
  {
   "cell_type": "code",
   "execution_count": null,
   "id": "ba0bd907-16ed-4e19-8fda-54fdeb5b551e",
   "metadata": {
    "collapsed": false,
    "jupyter": {
     "outputs_hidden": false
    },
    "pycharm": {
     "name": "#%%\n"
    }
   },
   "outputs": [],
   "source": [
    "# Magic command to allow us to interact with figures in Jupyter; only works in Jupyter.\n",
    "import os\n",
    "import matplotlib.pyplot as plt\n",
    "import numpy as np\n",
    "import mne\n",
    "import ipympl\n",
    "import pandas as pd\n",
    "\n",
    "%matplotlib qt"
   ]
  },
  {
   "cell_type": "code",
   "execution_count": null,
   "id": "cf2b6eb3-c058-421b-b214-366b06663a33",
   "metadata": {
    "tags": []
   },
   "outputs": [],
   "source": [
    "'''\n",
    "    Load in an BDF dataset. It should be in the same directory as this script.\n",
    "    We will read in the bdf file using mne input-output module.\n",
    "    This will load in a raw object.\n",
    "    Then plot all channels of the raw data.\n",
    "'''\n",
    "%matplotlib widget\n",
    "fname = 'sub-001_eeg_sub-001_task-think1_eeg.bdf'\n",
    "rawIn = mne.io.read_raw_bdf(fname, preload=True)\n",
    "\n",
    "scale_dict = dict(mag=1e-12, grad=4e-11, eeg=20e-6, eog=150e-6, ecg=5e-4,\n",
    "     emg=1e-3, ref_meg=1e-12, misc=1e-3, stim=1,\n",
    "     resp=1, chpi=1e-4)\n",
    "mne.viz.plot_raw(rawIn, duration=5.0, scalings=scale_dict, remove_dc=True)"
   ]
  },
  {
   "cell_type": "markdown",
   "id": "76ad4874-e3b1-4fed-98e7-dff8c73c88bf",
   "metadata": {},
   "source": [
    "## 1. DOWNSAMPLING\n",
    "\n",
    "Represents the number of times per second that the acquisition system samples the continuous EEG.\n",
    "So, given sampling frequency (or sampling rate) of 1024Hz, this means that the system samples the signal every ______ seconds?\n",
    "\n",
    "The sampling rate has an effect on the analyses that we can carry out on the EEG.\n",
    "For example, if we are interested interested in studying EEG activity around 80Hz, sampling frequency needs to be **at least** twice this frequency of interest - this is the **Nyquist Rule**.\n",
    "\n",
    "However, having a high sampling frequency also implies having a greater volume of data. This can mean longer computing times when we are analysing our data.\n",
    "Generally, in EEG analysis, we are interested in activity in the 0.1Hz to 80Hz frequency band. This means that we do not necessarily need to have a sampling frequency as high as 1024Hz; a sampling frequency of 512Hz or 250Hz will be sufficient to capture the characteristics of the EEG of interest.\n",
    "\n",
    "To reduce the rate at which our EEG is sampled, we can **resample** or **downsample** our data.\n",
    "- How does resampling change the EEG signal?\n",
    "- What other variable is automatically changed when we resample the EEG data?"
   ]
  },
  {
   "cell_type": "code",
   "execution_count": null,
   "id": "ea4e4320-f1d6-4091-984c-7abebcb644b3",
   "metadata": {
    "collapsed": false,
    "jupyter": {
     "outputs_hidden": false
    },
    "pycharm": {
     "name": "#%%\n"
    }
   },
   "outputs": [],
   "source": [
    "rsamp = srate/2                                    # Downsample to half of the original sampling frequency.\n",
    "RawIn_rs = RawIn.copy().resample(sfreq=rsamp)      # Create a copy of RawIn and apply downsampling to this copy."
   ]
  },
  {
   "cell_type": "markdown",
   "id": "1b2f99ad-1d87-4900-8e22-595085b36dcb",
   "metadata": {},
   "source": [
    "# 2. Filtering\n",
    "\n",
    "In EEG, we generally filter to remove high frequency artifacts and low frequency drifts.\n",
    "We can filter our time-domain data, our continuous EEG.\n",
    "We can also filter our spatial-domain data using spatial filters.\n",
    "\n",
    "We begin by filtering our time-domain data:\n",
    "- we apply a high-pass filter to remove low frequency drifts\n",
    "- we apply a low-pass filter to remove high frequency artifacts."
   ]
  },
  {
   "cell_type": "code",
   "execution_count": null,
   "id": "456513ee-7909-463e-bc44-49a1d0a53c7e",
   "metadata": {
    "tags": []
   },
   "outputs": [],
   "source": [
    "## Filter the EEG Signal.\n",
    "#  High-pass filter with limit of 0.1Hz. \n",
    "#  Note that we create a copy of the original rawIn object before filtering.\n",
    "\n",
    "rawIn_hifilt = rawIn.copy().filter(0.1, None, fir_design='firwin')"
   ]
  },
  {
   "cell_type": "code",
   "execution_count": null,
   "id": "416ab7ef-89d1-4a92-a983-b01b1b61463d",
   "metadata": {},
   "outputs": [],
   "source": [
    "## Filter the EEG Signal\n",
    "#. Low-pass filter with a limit of 40Hz\n",
    "#  Note that we create a copy of the original rawIn object before filtering.\n",
    "\n",
    "rawIn_lofilt = rawIn.copy().filter(None, 40, fir_design='firwin'"
   ]
  },
  {
   "cell_type": "markdown",
   "id": "47278841-3ec4-41c3-a186-c547973c807c",
   "metadata": {},
   "source": [
    "# 3. Re-referencing \n",
    "\n",
    "The potential measured in microVolts is measured in relation to the potential at another point, called the reference.\n",
    "\n",
    "This means that the activity at each channel is interpreted relative to the potential at a reference.\n",
    "- the reference can be the mean activity of all electrodes.\n",
    "- the average of the two mastoids (generally these reference channels are marked as Ref1, Ref2 or EXG1, EXG2)\n",
    "The current dataset does not have the external (EXG) channels, so we will apply an average reference.\n",
    "\n",
    "However, we cannot include the bad channels or the VEOG when applying the reference.\n",
    "We use the *pick_types()* method to exclude these channels when applying the average reference.\n",
    "\n",
    "<a href=\"https://predictablynoisy.com/mne-python/generated/mne.set_eeg_reference.html\"> Link to MNE page on **mne.set_eeg.reference()**</a>"
   ]
  },
  {
   "cell_type": "code",
   "execution_count": null,
   "id": "5d913cab-b584-4754-ba6e-7f12715636cc",
   "metadata": {
    "collapsed": false,
    "jupyter": {
     "outputs_hidden": false
    },
    "pycharm": {
     "name": "#%%\n"
    }
   },
   "outputs": [],
   "source": [
    "'''\n",
    "    Note that we are excluding the eog channel and the bad channels from the average reference calculation.\n",
    "'''\n",
    "rawIn_ref = rawIn_lofilt.copy().pick_types(eeg=True, exclude= ['bads','misc', 'stim']).set_eeg_reference()"
   ]
  },
  {
   "cell_type": "markdown",
   "id": "48c7cad0-4dfc-461b-b26f-84d9176dac73",
   "metadata": {},
   "source": [
    "# 4. Detecting noisy electrodes \n",
    "\n",
    "Different approaches can be taken to identify those electrodes to reject from further analysis:\n",
    "- Manual detection, manual annotation of the data.\n",
    "- Study the spectrum of the data to detect outliers.\n",
    "- Automatic detection of outliers based on measures based on amplitude, the predictability of the signal, the presence of energy in certain frequency bands."
   ]
  },
  {
   "cell_type": "code",
   "execution_count": null,
   "id": "e117af4e-a310-4074-9f29-ccc819069cec",
   "metadata": {},
   "outputs": [],
   "source": []
  },
  {
   "cell_type": "markdown",
   "id": "24907855-7301-4ebc-aba4-f642cf2d82eb",
   "metadata": {},
   "source": [
    "## Task 1:\n",
    "\n",
    "Select 4 midline electrodes and compare them as follows:\n",
    "- Before and after bandpass filtering\n",
    "- Before and after average reference\n",
    "- Compare the result of reference using the average reference and the Cz as a reference. "
   ]
  }
 ],
 "metadata": {
  "kernelspec": {
   "display_name": "Python 3 (ipykernel)",
   "language": "python",
   "name": "python3"
  },
  "language_info": {
   "codemirror_mode": {
    "name": "ipython",
    "version": 3
   },
   "file_extension": ".py",
   "mimetype": "text/x-python",
   "name": "python",
   "nbconvert_exporter": "python",
   "pygments_lexer": "ipython3",
   "version": "3.9.1"
  }
 },
 "nbformat": 4,
 "nbformat_minor": 5
}
