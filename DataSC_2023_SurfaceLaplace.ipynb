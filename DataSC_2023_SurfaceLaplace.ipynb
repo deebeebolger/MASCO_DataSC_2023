{
 "cells": [
  {
   "cell_type": "markdown",
   "metadata": {
    "pycharm": {
     "name": "#%% md\n"
    }
   },
   "source": [
    "## Script to help understand the Surface Laplacian\n",
    "\n",
    "\"\"\"\n",
    "We use the surface Laplacian to transform the EEG data from a measures of\n",
    "scalp potentials to an estimate of the underlying current sources and sinks.\n",
    "\n",
    "Practically, the Surface Laplacian acts a spatial high-pass filter that, when applied to the data,\n",
    "attenuates low-frequency, spatial components...the kind of activity that might give us a completely\n",
    "blue or red head.\n",
    "So, it attenuates activity that is broadly distributed across the scalp and conserves high-frequency spatial activity,\n",
    "activity that is more localised.\n",
    "\n",
    "<a href=\"https://github.com/alberto-ara/Surface-Laplacian\"> Reference: https://github.com/alberto-ara/Surface-Laplacian</a>\n"
   ]
  },
  {
   "cell_type": "code",
   "execution_count": null,
   "metadata": {
    "collapsed": false,
    "jupyter": {
     "outputs_hidden": false
    },
    "pycharm": {
     "name": "#%%\n"
    },
    "tags": []
   },
   "outputs": [],
   "source": [
    "from zipfile import ZipFile\n",
    "import os\n",
    "import numpy as np\n",
    "import seaborn as sns\n",
    "from scipy import stats\n",
    "import matplotlib.pyplot as plt\n",
    "\n",
    "sns.set(rc={'figure.figsize':(8, 6)},\n",
    "        font_scale=1.5)\n",
    "sns.set_style('whitegrid')"
   ]
  },
  {
   "cell_type": "code",
   "execution_count": null,
   "metadata": {
    "collapsed": false,
    "jupyter": {
     "outputs_hidden": false
    },
    "pycharm": {
     "name": "#%%\n"
    },
    "tags": []
   },
   "outputs": [],
   "source": [
    "### Simulate the effect surface Laplacian\n",
    "\n",
    "### Simulate One-Dimensional EEG Data\n",
    "\"\"\"\n",
    "    Simulate the spatial data from a group of adjacent electrodes (i.e. midline electrodes) as 1D data.\n",
    "    The activity is made up of a very large broad positive component and a narrow, smaller negative component.\n",
    "\"\"\"\n",
    "\n",
    "electrode_spacing = .1\n",
    "space = np.arange(0, 10, electrode_spacing)\n",
    "pos_comp = 2 * stats.norm.pdf(space, loc=4, scale=1)        # The broad positive component\n",
    "neg_comp = -.25 * stats.norm.pdf(space, loc=5, scale=.5)    # The narrow, lower magnitude negative component.\n",
    "\n",
    "def do_label():\n",
    "    \"\"\"\n",
    "        Define a function to show the plot labels\n",
    "    \"\"\"\n",
    "    plt.legend(loc='upper right')\n",
    "    plt.xlabel('Location')\n",
    "    plt.ylabel('Magnitude')\n",
    "\n",
    "fig_ground_truth = plt.figure()\n",
    "for comp, label in zip([pos_comp, neg_comp], ['Positive Component', 'Negative Component']):\n",
    "    plt.plot(space, comp, label=label)\n",
    "do_label()\n",
    "plt.show()"
   ]
  },
  {
   "cell_type": "code",
   "execution_count": null,
   "metadata": {
    "collapsed": false,
    "jupyter": {
     "outputs_hidden": false
    },
    "pycharm": {
     "name": "#%%\n"
    },
    "tags": []
   },
   "outputs": [],
   "source": [
    "### Plot to reflect real EEG signal\n",
    "\"\"\"\n",
    "    In real EEG data, we do not see the narrow, smaller negative component.\n",
    "    Both components are superimposed.\n",
    "    Let's plot what we are more likely to see...\n",
    "    Any sign of our negative component?\n",
    "\"\"\"\n",
    "\n",
    "sigeeg = pos_comp + neg_comp          # Superimpose both positive and negative components.\n",
    "\n",
    "plt.plot(space, sigeeg, label='More Realistic EEG Signal')\n",
    "do_label()\n"
   ]
  },
  {
   "cell_type": "code",
   "execution_count": null,
   "metadata": {
    "collapsed": false,
    "jupyter": {
     "outputs_hidden": false
    },
    "pycharm": {
     "name": "#%%\n"
    },
    "tags": []
   },
   "outputs": [],
   "source": [
    "### Now we start to apply the Laplacian....\n",
    "\"\"\"\n",
    "    Start by calculating the first spatial derivative.\n",
    "    This will give us the change between both electrodes...\n",
    "\"\"\"\n",
    "\n",
    "first_deriv = np.diff(sigeeg)\n",
    "space_d1 = space[:-1] + .5 * electrode_spacing                 # Keep locations lined up with differentiated data\n",
    "plt.plot(space_d1, first_deriv, label='First Spatial Derivative')\n",
    "do_label()\n"
   ]
  },
  {
   "cell_type": "code",
   "execution_count": null,
   "metadata": {
    "collapsed": false,
    "jupyter": {
     "outputs_hidden": false
    },
    "pycharm": {
     "name": "#%%\n"
    },
    "tags": []
   },
   "outputs": [],
   "source": [
    "\n",
    "### We continue with our Laplacian...\n",
    "\"\"\"\n",
    "    We calculate the second spatial derivative of EEG signal; we find the\n",
    "    derivative of the derivative.\n",
    "    Note that we multiply the 2nd spatial derivative by -1 to make sure things are the right way up...\n",
    "    At what locations (x-axis) do we see the postive component and negative component\n",
    "\"\"\"\n",
    "\n",
    "second_deriv = np.diff(first_deriv)\n",
    "space_d2     = space[:-2] + .5 * electrode_spacing         # Keep the locations lined up with the differentiated data.\n",
    "plt.plot(space_d2, -1 * second_deriv, label='Second Spatial Derivative')\n",
    "do_label()\n"
   ]
  },
  {
   "cell_type": "code",
   "execution_count": null,
   "metadata": {
    "collapsed": false,
    "jupyter": {
     "outputs_hidden": false
    },
    "pycharm": {
     "name": "#%%\n"
    },
    "tags": []
   },
   "outputs": [],
   "source": [
    "### Simulate Effect of Laplacian on Two-Dimensional Data\n",
    "\"\"\"\n",
    "    In this example, we are assuming that the scalp is flat.\n",
    "    We often present scalp topographies as 2D images.\n",
    "    Here we define a function (def) to plot a 2D array.\n",
    "\"\"\"\n",
    "%matplotlib qt\n",
    "X = Y = np.arange(-10, 10.01, .1)\n",
    "XY = np.array([(x, y) for x in X for y in Y])\n",
    "\n",
    "def show(X):\n",
    "    '''\n",
    "        Plot an image given a 2D array\n",
    "    '''\n",
    "    mx = np.abs(X).max()\n",
    "    im = plt.imshow(X, cmap='seismic', vmin=-mx, vmax=mx)\n",
    "    plt.colorbar(im)\n"
   ]
  },
  {
   "cell_type": "code",
   "execution_count": null,
   "metadata": {
    "collapsed": false,
    "jupyter": {
     "outputs_hidden": false
    },
    "pycharm": {
     "name": "#%%\n"
    },
    "tags": []
   },
   "outputs": [],
   "source": [
    "### Simulate 2D data\n",
    "\"\"\"\n",
    "    Here we simulate 2D with a large, broad positive component and a narrow, smaller negative\n",
    "    component.\n",
    "    We plot it in 2D space using the show() function.\n",
    "\"\"\"\n",
    "locs = [(0, -4), (0, 2)]        # Center of each component\n",
    "peaks = [-1, 6]                 # Peak amplitudes\n",
    "scales = [2, 8]                 # Standard deviations\n",
    "V = np.zeros(XY.shape[0])       # Voltages\n",
    "\n",
    "for loc, peak, scale in zip(locs, peaks, scales):\n",
    "    cov = np.eye(2) * scale\n",
    "    thisV = stats.multivariate_normal.pdf(XY, mean=loc, cov=cov)\n",
    "    gain = peak / thisV.max()\n",
    "    V += thisV * gain\n",
    "wV = V.reshape(len(X), len(X)).T # Voltage as a 2D grid\n",
    "show(wV)\n"
   ]
  },
  {
   "cell_type": "code",
   "execution_count": null,
   "metadata": {
    "collapsed": false,
    "jupyter": {
     "outputs_hidden": false
    },
    "pycharm": {
     "name": "#%%\n"
    },
    "tags": []
   },
   "outputs": [],
   "source": [
    "### Find the First Spatial Derivative of the Data\n",
    "\"\"\"\n",
    "    Here, to construct our Laplacian, we have to combine one-dimensional partial derivatives.\n",
    "    We create a function combine_part() to do this.\n",
    "\"\"\"\n",
    "def combine_parts(dx, dy):\n",
    "\n",
    "\n",
    "    m = dx.shape[0]\n",
    "    assert(dy.shape[1]==m)\n",
    "    return dx[:m, :m] + dy[:m, :m]\n",
    "\n",
    "dv_dx = np.diff(wV, axis=0)[:-1, :]      # Drop the last value in 1st dimension (x)\n",
    "dv_dy = np.diff(wV, axis=1)[:, :-1]      # Drop the last value in 2nd dimension (y)\n",
    "grad = combine_parts(dv_dx, dv_dy)\n",
    "show(grad)"
   ]
  },
  {
   "cell_type": "code",
   "execution_count": null,
   "metadata": {
    "collapsed": false,
    "jupyter": {
     "outputs_hidden": false
    },
    "pycharm": {
     "name": "#%%\n"
    },
    "tags": []
   },
   "outputs": [],
   "source": [
    "### Find the Second Spatial Derivative of the Data\n",
    "\n",
    "def combine_parts(dx, dy):\n",
    "\n",
    "\n",
    "    m = dx.shape[0]\n",
    "    assert(dy.shape[1]==m)\n",
    "    return dx[:m, :m] + dy[:m, :m]\n",
    "\n",
    "ddv_ddx = np.diff(dv_dx, axis=0)[:-1, :]\n",
    "ddv_ddy = np.diff(dv_dy, axis=1)[:, :-1]\n",
    "L = combine_parts(ddv_ddx, ddv_ddy)\n",
    "laplace = -1*L                       # Remember to multiple the 2nd derivative by -1 to invert polarity.\n",
    "show(laplace)\n"
   ]
  },
  {
   "cell_type": "code",
   "execution_count": null,
   "metadata": {},
   "outputs": [],
   "source": []
  }
 ],
 "metadata": {
  "kernelspec": {
   "display_name": "Python 3 (ipykernel)",
   "language": "python",
   "name": "python3"
  },
  "language_info": {
   "codemirror_mode": {
    "name": "ipython",
    "version": 3
   },
   "file_extension": ".py",
   "mimetype": "text/x-python",
   "name": "python",
   "nbconvert_exporter": "python",
   "pygments_lexer": "ipython3",
   "version": "3.9.1"
  }
 },
 "nbformat": 4,
 "nbformat_minor": 4
}
