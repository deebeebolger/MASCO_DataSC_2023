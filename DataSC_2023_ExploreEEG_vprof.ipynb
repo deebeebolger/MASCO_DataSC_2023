{
 "cells": [
  {
   "cell_type": "markdown",
   "id": "e4aa843c-d4ea-4fb0-a3a8-58e3d251cbdb",
   "metadata": {},
   "source": [
    "## FIRST STEPS IN EXPLORING EEG DATA\n",
    "\n",
    "Now that we have visualized and explore EEG data using Anywave, we will try to carry out similar work using Python and Python-MNE, a tool used by many researchers in EEG, MEG and fMRI.\n",
    "Make sure that the folders containing your data are in the same directory as your Jupyter notebooks and Python scripts. This will make it easier to load in data."
   ]
  },
  {
   "cell_type": "code",
   "execution_count": null,
   "id": "71ea10f7-a92c-474b-b2f6-81b3990cb09a",
   "metadata": {
    "collapsed": false,
    "jupyter": {
     "outputs_hidden": false
    },
    "pycharm": {
     "name": "#%%\n"
    }
   },
   "outputs": [],
   "source": [
    "# Magic command to allow us to interact with figures in Jupyter; only works in Jupyter.\n",
    "import os\n",
    "import matplotlib.pyplot as plt\n",
    "import numpy as np\n",
    "import mne\n",
    "import ipympl\n",
    "import pandas as pd\n",
    "\n",
    "%matplotlib qt"
   ]
  },
  {
   "cell_type": "code",
   "execution_count": null,
   "id": "3ea411ab-2cc1-4efe-9b85-2246643e95ba",
   "metadata": {
    "tags": []
   },
   "outputs": [],
   "source": [
    "'''\n",
    "    Load in an BDF dataset. It should be in the same directory as this script.\n",
    "    We will read in the bdf file using mne input-output module.\n",
    "    This will load in a raw object.\n",
    "    Then plot all channels of the raw data.\n",
    "'''\n",
    "%matplotlib widget\n",
    "fname = 'sub-001_eeg_sub-001_task-think1_eeg.bdf'\n",
    "rawIn = mne.io.read_raw_bdf(fname, preload=True)\n",
    "\n",
    "scale_dict = dict(mag=1e-12, grad=4e-11, eeg=20e-6, eog=150e-6, ecg=5e-4,\n",
    "     emg=1e-3, ref_meg=1e-12, misc=1e-3, stim=1,\n",
    "     resp=1, chpi=1e-4)\n",
    "mne.viz.plot_raw(rawIn, duration=5.0, scalings=scale_dict, remove_dc=True)"
   ]
  },
  {
   "cell_type": "markdown",
   "id": "1ce6c0a5-24dd-4771-835e-d665b147eab0",
   "metadata": {},
   "source": [
    "### The external channels \n",
    "\n",
    "Ext1 and Ext2: HEOG; \n",
    "Ext3 and Ext 4: VEOG (blinks); \n",
    "Ext 7: ECG\n",
    "Ext5: M1\n",
    "Ext6: M2\n",
    "Ext8: FP1"
   ]
  },
  {
   "cell_type": "code",
   "execution_count": null,
   "id": "2080d68e-0043-4736-aa98-355730588a95",
   "metadata": {
    "tags": []
   },
   "outputs": [],
   "source": [
    "# Set the auxiliary channels to type 'misc' and the stimulus channel to type 'stim'.\n",
    "# This allows each data type to be scaled appropriately when visualized.\n",
    "\n",
    "my_dict={'EXG1': 'eog', 'EXG2': 'eog', 'EXG3': 'eog', 'EXG4': 'eog', 'EXG5': 'eog' , 'EXG6': 'eog', 'EXG7': 'eog', 'EXG8': 'eog',\n",
    "        'GSR1': 'misc', 'GSR2': 'misc', 'Erg1': 'stim', 'Erg2': 'stim', 'Resp': 'resp', 'Plet': 'misc', 'Temp': 'misc', 'Status': 'stim'}\n",
    "print(my_dict)\n",
    "rawIn.set_channel_types(my_dict)\n",
    "\n",
    "mne.viz.plot_raw(rawIn, duration=5.0, scalings=scale_dict, remove_dc=True)"
   ]
  },
  {
   "cell_type": "code",
   "execution_count": null,
   "id": "7c0364cd-bd66-4861-992f-81243180f899",
   "metadata": {},
   "outputs": [],
   "source": [
    "# Extract the data from the raw file and get the dimensions of the data.\n",
    "\n",
    "data1 = rawIn.get_data()     \n",
    "data_dim = data1.shape\n",
    "print(data_dim)\n",
    "print('The number of channels in the current raw dataset is: ', data_dim[0])\n",
    "print('\\nThe number of time samples in the current raw dataset is: ', data_dim[1])"
   ]
  },
  {
   "cell_type": "code",
   "execution_count": null,
   "id": "0dd07ec4-46cb-4bda-a9d9-663cf2582410",
   "metadata": {},
   "outputs": [],
   "source": [
    "# Let's take a look at the rawmed1.info attribute, which contains an 'info' object.\n",
    "# This info object is a python dictionary.\n",
    "\n",
    "print(rawIn.info)\n"
   ]
  },
  {
   "cell_type": "code",
   "execution_count": null,
   "id": "13a57fc1-e5b6-42a1-a4d3-11394155d536",
   "metadata": {
    "tags": []
   },
   "outputs": [],
   "source": [
    "# Let's find the following information from the info object.\n",
    "# - Sampling frequency (Hz)\n",
    "# - Channel labels (electrode names)\n",
    "\n",
    "\n",
    "sfreq = rawIn.info['sfreq']\n",
    "print('The sampling frequency of the current dataset is: ', sfreq)\n",
    "\n",
    "chan_names = rawIn.info['ch_names']\n",
    "print(chan_names)\n",
    "\n",
    "# print out the limit of the lowpass filter applied...\n"
   ]
  },
  {
   "cell_type": "markdown",
   "id": "3c4641ea-1ad9-40f8-abb5-a540a3bef2b0",
   "metadata": {
    "tags": []
   },
   "source": [
    "## TASK 1\n",
    "Now that you know the sampling rate of the current raw dataset, you know how many times per second the EEG signal was sampled.\n",
    "You also know the number of time samples of the dataset.\n",
    "With this information, you are going to create the time vector. The time vector shows the time (in seconds) that corresponds to each sample of the data.\n",
    "\n",
    "CLUE: Given that you know the sampling frequency, what is the time step from one sample to the next?\n",
    "      Remember that the sampling frequency tells you how many samples there for every second. "
   ]
  },
  {
   "cell_type": "code",
   "execution_count": null,
   "id": "f8130a47-4549-496f-9c3a-2c4b2657a390",
   "metadata": {
    "collapsed": false,
    "jupyter": {
     "outputs_hidden": false
    },
    "pycharm": {
     "name": "#%%\n"
    }
   },
   "outputs": [],
   "source": [
    "## -----------------------We know the sampling rate of the data, so can we construct the time vector?----------------------\n",
    "'''\n",
    "   Define the sampling frequency (srate) and the number of samples that the time vector should be composed of.\n",
    "   Define the time step.\n",
    "   CLUE: you could use the numpy function, arange: numpy.arange(start, stop, step)\n",
    "'''\n",
    "srate = sfreq               # The sampling frequency.\n",
    "datasize = data_dim[1]      # The number os samples in the time vector.\n",
    "tstep    = 1/srate\n",
    "timev    = np.arange(0, datasize*tstep, tstep)\n",
    "print('The length of the time vector is: ',len(timev))\n",
    "print(f'The duration of the time vector is {timev[-1]}seconds')\n",
    "                "
   ]
  },
  {
   "cell_type": "markdown",
   "id": "0559014d-0816-4838-a895-a560183e5277",
   "metadata": {},
   "source": [
    "## Now plot a single channel\n",
    "We will plot the Cz channel using the time vector that we just calculated above.\n",
    "We use the *index()* method to get the index of the Cz channel.sfreq"
   ]
  },
  {
   "cell_type": "code",
   "execution_count": null,
   "id": "da8c6277-88e9-4337-ba33-9812badd6c74",
   "metadata": {
    "collapsed": false,
    "jupyter": {
     "outputs_hidden": false
    },
    "pycharm": {
     "name": "#%%\n"
    }
   },
   "outputs": [],
   "source": [
    "%matplotlib inline\n",
    "''' Now we can plot the data of a single electrode over time.\n",
    "    We want to plot the Cz electrode...\n",
    "'''\n",
    "\n",
    "chanidx = chan_names.index('Cz')             # Find the index of the Cz electrode.\n",
    "plt.plot(timev, data1[chanidx, :])        # Plot the Cz signal\n",
    "plt.xlabel('time (seconds)')"
   ]
  },
  {
   "cell_type": "markdown",
   "id": "eb020bd6-1b26-486d-a7f5-8211e888fd76",
   "metadata": {
    "tags": []
   },
   "source": [
    "## Plot an individual channel over a defined time interval\n",
    "Here we will just plot the data of the Pz channel over the 60second to 70second time interval.\n",
    "This means that we need define a shorter time interval."
   ]
  },
  {
   "cell_type": "code",
   "execution_count": null,
   "id": "8161b356-69bc-4892-a323-70c76d1bc748",
   "metadata": {
    "collapsed": false,
    "jupyter": {
     "outputs_hidden": false
    },
    "pycharm": {
     "name": "#%%\n"
    }
   },
   "outputs": [],
   "source": [
    "### But we may want to visualize individual channel data for a pre-defined time interval.\n",
    "\"\"\"Need to consctruct the new time vector\"\"\"\n",
    "lims_sec    = np.array([60, 70])               # We will define the limits of the time interval, from 60seconds to 70seconds\n",
    "lim1, lim2  = (lims_sec * srate).astype(int)   # Find the indices of the start and end of chosen time interval\n",
    "chan2plot   = 'Pz'                             # The index of the channel that you want to plot, here Pz\n",
    "chanindx2   = chan_names.index(chan2plot)\n",
    "RawIn_sel   = data1[chanindx2, lim1:lim2]   # Extract the raw data of interest\n",
    "\n",
    "# Now plot the time interval of data.\n",
    "t = timev[lim1:lim2]                             # We define a new time vector, t, as being between lim1 and lim2\n",
    "plt.plot(t,RawIn_sel)\n",
    "plt.show()"
   ]
  },
  {
   "cell_type": "code",
   "execution_count": null,
   "id": "71594eb3-8b0e-4175-b1f3-48909088a48d",
   "metadata": {
    "tags": []
   },
   "outputs": [],
   "source": [
    "## Now we will plot the EEG again with one little change...\n",
    "\n",
    "mne.viz.plot_raw(rawIn, scalings='auto', remove_dc=False)"
   ]
  },
  {
   "cell_type": "markdown",
   "id": "db9755fd-fa4b-40cb-a241-f0f4967ec34d",
   "metadata": {},
   "source": [
    "# THE DC OFFSET\n",
    "\n",
    "You notice that none of the electrodes appear to be visible...this is due to what we call the \"**DC Offset**\".\n",
    "The acquisition system works on battery, so DC, and it captures ALL the frequencies including the OHz.\n",
    "The OHz is the offset from zero mean. \n",
    "So we need to remove this offset; after which our signals will have a zero mean.\n",
    "\n",
    "#### There are different ways of removing the DC Offset:\n",
    "\n",
    "We will start by trying to remove the DC offset, by subtracting the mean activity from the activity of one channel.\n",
    "Then we will plot the result.\n",
    "So...\n",
    "- Let's calculate the mean of a few channels.\n",
    "- What do you notice about the means? How do we know that there is a DC offset?\n",
    "\n",
    "Note also the use of the *copy()** method. We use this to make a copy of the original **RawIn** object.\n",
    "When we apply a method such as, *.pick_channels*, to a raw object, we change that object. Therefore, the copy() method is very useful."
   ]
  },
  {
   "cell_type": "code",
   "execution_count": null,
   "id": "a160868a-0313-47ba-b782-72f87a249a1c",
   "metadata": {
    "tags": []
   },
   "outputs": [],
   "source": [
    "## To test the effect of the DC offset, we will find the mean of a few electrodes.\n",
    "\"\"\"\n",
    "    Find the mean of the data from several channels.\n",
    "    What can we say about the means?\n",
    "\"\"\"\n",
    "\n",
    "raw_temp   = rawIn.copy()                    # Create a copy of the raw object and name it RawIn_temp\n",
    "raw_temp.pick_channels(['F3', 'Fz', 'F4'])     # We are going to compute of a subset of channels.\n",
    "dataIn     = raw_temp.get_data()               # Extract the data from the RawIn object.\n",
    "data_mean  = np.mean(dataIn, 1)                # We want to find the mean over the time samples, so the 2nd dimension.\n",
    "Dmean      = data_mean.tolist()                # Converting the array to a list.\n",
    "\n",
    "print('The mean for each  electrode: {} '.format(Dmean))"
   ]
  },
  {
   "cell_type": "markdown",
   "id": "7b0bbc8c-6732-4afc-af74-0473bbdb3a2c",
   "metadata": {},
   "source": [
    "## Removing the DC Offset\n",
    "\n",
    "So, if we think we need to remove the DC offset, we can do one of the following:\n",
    "- Subtract the mean of each signal from each time sample of each channel.\n",
    "- Carry out high-pass filtering to remove the 0Hz\n",
    "- Carry out **detrending**\n",
    "\n",
    "In the following, you can compare the effect of subtracting the mean and high-pass filtering.\n",
    "We can carry out this test on the **RawIn_sel2** data, that consists of 6 channels."
   ]
  },
  {
   "cell_type": "code",
   "execution_count": null,
   "id": "0612478c-00ac-4bfc-823d-6f3016573e04",
   "metadata": {
    "tags": []
   },
   "outputs": [],
   "source": [
    "## Subtract the mean\n",
    "# We already know the means of the 6 channels, they are stored in the Dmean list and the data_mean array.\n",
    "# The channel-data of the RawIn_temp object is \"dataIn\"\n",
    "chan_demean1 = np.subtract(dataIn[0,], Dmean[0])\n",
    "chan_demean2 = np.subtract(dataIn[1,], Dmean[1])\n",
    "chan_demean3 = np.subtract(dataIn[2,], Dmean[2])\n",
    "\n",
    "%matplotlib qt\n",
    "## Plot the original and demeaned channels\n",
    "ax1 = plt.subplot(231)\n",
    "ax1.margins(0.5)\n",
    "ax1.plot(timev, dataIn[0,])\n",
    "\n",
    "ax2 = plt.subplot(232)\n",
    "ax2.margins(0.5)\n",
    "ax2.plot(timev,dataIn[1,])\n",
    "\n",
    "ax3 = plt.subplot(233)\n",
    "ax3.margins(0.5)\n",
    "ax3.plot(timev,dataIn[2,])\n",
    "\n",
    "ax4 = plt.subplot(234)\n",
    "ax4.margins(0.5)\n",
    "ax4.plot(timev, chan_demean1)\n",
    "\n",
    "ax5 = plt.subplot(235)\n",
    "ax5.margins(0.5)\n",
    "ax5.plot(timev,chan_demean2)\n",
    "\n",
    "ax6 = plt.subplot(236)\n",
    "ax6.margins(0.5)\n",
    "ax6.plot(timev,chan_demean3)"
   ]
  },
  {
   "cell_type": "markdown",
   "id": "c5a46c5f-8484-4043-b533-69d5830e2d88",
   "metadata": {},
   "source": [
    "# FILTERING THE EEG SIGNAL\n",
    "\n",
    "In EEG, we generally filter to remove high frequency artifacts and low frequency drifts.\n",
    "We can filter our time-domain data, our continuous EEG.\n",
    "We can also filter our spatial-domain data using spatial filters.\n",
    "\n",
    "We begin by filtering our time-domain data:\n",
    "- we apply a high-pass filter to remove low frequency drifts and the DC Offset.\n",
    "- we apply a low-pass filter to remove high frequency artifacts.\n",
    "Here we are going to apply a *high-pass filter* only to try to remove the DC offset."
   ]
  },
  {
   "cell_type": "code",
   "execution_count": null,
   "id": "049532bb-b7c2-49b6-8f3a-019ab6e8eaf3",
   "metadata": {
    "tags": []
   },
   "outputs": [],
   "source": [
    "## Filter the EEG Signal.\n",
    "#  High-pass filter with limit of 0.1Hz. \n",
    "#  Note that we create a copy of the original rawmed1 object before filtering.\n",
    "\n",
    "rawIn_filt = rawIn.copy().filter(0.1, None, fir_design='firwin')"
   ]
  },
  {
   "cell_type": "markdown",
   "id": "5af72e5c-b58f-4444-a5e9-4096aaf25495",
   "metadata": {},
   "source": [
    "## Task 2:\n",
    "\n",
    "Compare the effect of removing the DC component by demeaning and by filtering for the following set of electrodes:\n",
    "- midline electrodes\n",
    "- frontal electrodes on the left hemisphere.\n",
    "- frontal electrodes on the right hemisphere.\n",
    "\n",
    "Look at the effect of high-pass filtering at 0.5Hz and 1Hz\n",
    "\n",
    "Write your code in the cell below."
   ]
  },
  {
   "cell_type": "code",
   "execution_count": null,
   "id": "1e5ea97b-f960-455c-bafc-de402661a0ba",
   "metadata": {},
   "outputs": [],
   "source": [
    "## Code for Task 2 goes here."
   ]
  },
  {
   "cell_type": "markdown",
   "id": "becf8256-3577-4851-a328-22778b896827",
   "metadata": {},
   "source": [
    "# Exploring the EEG data using annotations\n",
    "\n",
    "\n",
    "\n"
   ]
  },
  {
   "cell_type": "code",
   "execution_count": null,
   "id": "a453d94d-53af-4a7c-b593-9763b6c825aa",
   "metadata": {
    "collapsed": false,
    "jupyter": {
     "outputs_hidden": false
    },
    "pycharm": {
     "name": "#%%\n"
    }
   },
   "outputs": [],
   "source": [
    "## We will plot our high-pass filtered data.\n",
    "\n",
    "rawIn_filt.plot(duration= 20, start = 60, scalings='auto', remove_dc=False)"
   ]
  },
  {
   "cell_type": "markdown",
   "id": "92d6b5ef-5bcb-43e8-89f7-e7c47f108dab",
   "metadata": {},
   "source": [
    "### -------------------- PLOT TOPOGRAPHIES FOR DEFINED TIME INTERVAL -------------------------\n",
    "In addition to looking at the signal as a function of time.\n",
    "We can look at the spatial distribution of activity across the head (topography) for a given time interval.\n",
    "We could do this to highlight activity as a specific time or verify if certain activity corresponds to an artifact.\n",
    "The plot a single topography, we need to define a vector of the mean activity over a defined time interval.\n",
    "\n",
    "- Try to find a time interval containing eye-blinks or ECG or alpha oscillation.\n",
    "- Note the time interval or intervals.\n",
    "- Plot the topography of the activity over this time interval.\n",
    "\n",
    "The function to plot topography is given below.\n",
    "You can use the EEG artifact, characteristics CheatSheet to help you detect these artifacts.\n",
    "Note: Before we can visualise the topography, we need to define the electrode layout or **montage** that corresponds\n",
    "to the current data.\n",
    "Here we use the standard 10-20 montage.\n",
    "\n",
    "<img src=\"figures/10-20_1.jpg\" width=520 height=550 /><br />"
   ]
  },
  {
   "cell_type": "code",
   "execution_count": null,
   "id": "fafd0282-12ec-45d0-928c-9dbab89591a9",
   "metadata": {
    "collapsed": false,
    "jupyter": {
     "outputs_hidden": false
    },
    "pycharm": {
     "name": "#%%\n"
    }
   },
   "outputs": [],
   "source": [
    "'''\n",
    "    Add the montage information to the current raw object, RawIn.\n",
    "    This is required if you want to plot the topography maps.\n",
    "'''\n",
    "montage = mne.channels.make_standard_montage('standard_1020')               # Assigning the standard 10-20 montage\n",
    "mne.viz.plot_montage(mne.channels.make_standard_montage('standard_1020'))   # Visualize the montage\n",
    "rawIn_filt.set_montage(montage)"
   ]
  },
  {
   "cell_type": "code",
   "execution_count": null,
   "id": "6bb77efd-8bbb-4f2b-80c6-88f65bb6f8fc",
   "metadata": {
    "collapsed": false,
    "jupyter": {
     "outputs_hidden": false
    },
    "pycharm": {
     "name": "#%%\n"
    }
   },
   "outputs": [],
   "source": [
    "## When we plot the spatial distribution of activity, we pick a time interval of interest \n",
    "#  and plot the mean activity within that time interval. \n",
    "\n",
    "t_int = [70, 75]\n",
    "timeIndx = rawIn_filt.time_as_index(t_int)\n",
    "chan_range = np.arange(0,64)\n",
    "dataseg1 = rawIn_filt.get_data(chan_range, timeIndx[0], timeIndx[1])\n",
    "dataseg_avg = np.mean(dataseg1, 1)\n",
    "\n",
    "fig, ax = plt.subplots(1)\n",
    "mne.viz.plot_topomap(dataseg_avg, rawIn_filt.info, ch_type='eeg', axes=ax)"
   ]
  },
  {
   "cell_type": "code",
   "execution_count": null,
   "id": "8ebc74c3-bdb2-487d-a86e-0ea8e0f2a302",
   "metadata": {
    "tags": []
   },
   "outputs": [],
   "source": [
    "## Now let's plot topographies over several time intervals of interest.\n",
    "\n",
    "time_ints = np.arange(60, 64, 1)                   # Define the time intervals and time step\n",
    "print(time_ints)\n"
   ]
  },
  {
   "cell_type": "code",
   "execution_count": null,
   "id": "5a17eab7-cfda-4a2a-9304-9fbd6dfabf3a",
   "metadata": {
    "tags": []
   },
   "outputs": [],
   "source": [
    "fig, axes = plt.subplots(1, len(time_ints)-1, figsize=(15, 5))\n",
    "\n",
    "for ind in range(len(time_ints)-1):\n",
    "    curr_int =  [time_ints[ind], time_ints[ind+1]]\n",
    "    print(curr_int)\n",
    "    timeIndx2 = rawIn_filt.time_as_index(curr_int) \n",
    "    print(timeIndx2)\n",
    "    dataseg_curr  = rawIn_filt.get_data(chan_range, timeIndx2[0], timeIndx2[1])\n",
    "    datamean_curr = np.mean(dataseg_curr, 1)\n",
    "    \n",
    "    mne.viz.plot_topomap(datamean_curr, rawIn_filt.info, ch_type='eeg', axes=axes[ind])\n",
    "    axes[ind].set_title(str(time_ints[ind])+' - '+ str(time_ints[ind+1])+'seconds', {'fontsize' : 20})\n",
    "    "
   ]
  },
  {
   "cell_type": "markdown",
   "id": "4a117ddf-6181-4b33-9429-48e2e15a499b",
   "metadata": {
    "tags": []
   },
   "source": [
    "# Exploring the Spectral & Spectro-Temporal Characteristics of EEG\n",
    "\n",
    "We can also study the EEG signal in terms of its spectral content. \n"
   ]
  },
  {
   "cell_type": "code",
   "execution_count": null,
   "id": "64c3d522-60a7-4be8-80da-6c1f4add91dd",
   "metadata": {
    "collapsed": false,
    "jupyter": {
     "outputs_hidden": false
    },
    "pycharm": {
     "name": "#%%\n"
    }
   },
   "outputs": [],
   "source": [
    "# Plot the power spectral density over:\n",
    "# - the 1Hz to 80Hz frequency band\n",
    "# - a predefined time interval (60 - 80seconds)\n",
    "\n",
    "%matplotlib widget\n",
    "mne.viz.plot_raw_psd(rawIn_filt, fmin=1, fmax=100, tmin=60, tmax=80, picks='eeg', dB=True)"
   ]
  },
  {
   "cell_type": "markdown",
   "id": "61e3ca48-c2e7-4f87-996c-e3f22a934640",
   "metadata": {},
   "source": [
    "## Exploring the spectral content over a sub-set of channels\n",
    "\n",
    "Plotting the average topographies for different frequency bands (theta, alpha, beta, gamma).\n",
    "\n"
   ]
  },
  {
   "cell_type": "code",
   "execution_count": null,
   "id": "3365d3e7-60da-49e9-b237-8911025fef91",
   "metadata": {
    "collapsed": false,
    "jupyter": {
     "outputs_hidden": false
    },
    "pycharm": {
     "name": "#%%\n"
    }
   },
   "outputs": [],
   "source": [
    "# Plotting the topography of activity in different frequency bands.\n",
    "\n",
    "spectra = rawIn_filt.compute_psd(method='multitaper', fmin=0.5, fmax=80, tmin=None, tmax=None, picks='eeg')   # This yields a spectra object.\n",
    "psds, freqs = spectra.get_data(exclude=(), return_freqs=True)\n",
    "print('The frequencies are: ', freqs)\n",
    "\n",
    "# Plot the spectra as a function of frequency.\n",
    "chan_sel = ['Fpz','Fz','FCz','Cz','CPz','Pz']\n",
    "spectra.plot(picks=chan_sel)\n",
    "\n",
    "fbands = {'Theta (4-7Hz)': (4,7), 'Alpha (8-12 Hz)': (8, 12), 'Beta (12-30 Hz)': (12, 30),\n",
    "         'Gamma (30-45 Hz)': (30, 45)}\n",
    "\n",
    "spectra.plot_topomap(bands=fbands, ch_type='eeg')"
   ]
  },
  {
   "cell_type": "markdown",
   "id": "6f546d65-b13e-438a-adbe-f4b19559777e",
   "metadata": {},
   "source": [
    "# Task 3\n",
    "\n",
    "In the cell below, perform the following:\n",
    "- Load in the dataset \"sub-001_eeg_sub-001_task-think1_eeg.bdf\"\n",
    "- Display the following information onscreen:\n",
    "                - sampling frequency\n",
    "                - number of 'eeg'channels\n",
    "                - the title of the 'eeg' channels\n",
    "                - the number of sample points\n",
    "                - the time resolution of the input data.\n",
    "- In separate plots, plot the average time signal over:\n",
    "                - the midline electrodes\n",
    "                - RH frontal electrodes\n",
    "                - LH frontal electrodes\n",
    "                - RH posterior electrodes\n",
    "                - LH posterior electrodes\n",
    "- Plot the spectrum at three different time intervals: beginning, middle, end of data. \n",
    "                - Do you notice a difference?\n",
    "                - What is the peak frequency?\n",
    "- Plot the topography of alpha-band activity over the same time intervals and compare. \n",
    "\n",
    "- Compare the alpha-band topography over the same time intervals of the datasets, sub-001_eeg_sub-001_task-think1_eeg.bdf and sub-001_eeg_sub-001_task-med2_eeg.bdf. Do you notice any difference?\n",
    "\n",
    "Use the code provided in the example above to help you. \n"
   ]
  }
 ],
 "metadata": {
  "kernelspec": {
   "display_name": "Python 3 (ipykernel)",
   "language": "python",
   "name": "python3"
  },
  "language_info": {
   "codemirror_mode": {
    "name": "ipython",
    "version": 3
   },
   "file_extension": ".py",
   "mimetype": "text/x-python",
   "name": "python",
   "nbconvert_exporter": "python",
   "pygments_lexer": "ipython3",
   "version": "3.9.1"
  }
 },
 "nbformat": 4,
 "nbformat_minor": 5
}
