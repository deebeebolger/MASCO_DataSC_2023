{
 "cells": [
  {
   "cell_type": "markdown",
   "id": "fd97c42b-c794-497a-8df5-dfa5542050a5",
   "metadata": {},
   "source": [
    " ## Student Task\n",
    " \n",
    " Using the two previous scriptsn(below) as guides:\n",
    " - DataSC_2023_ExploreEEG.ipynb\n",
    " - DataSC_2023_CleaningPrep.ipynb\n",
    " \n",
    "Load in the dataset, sub-004_ses-02_task-ThreeStimAuditoryOddball_eeg.edf and carry out the following steps. Each step can be presented in a different cell, if you like.\n",
    " \n",
    "1. Print the most important information concerning the EEG data to the screen. Important information means that information that you will need to visualize, process or interpret the data.\n",
    "\n",
    "2. Visualize all channels in such a way that you scroll through and explore the data across time. \n",
    "                    - Note down the times (onset and offset) of any very noisy intervals.\n",
    "                    - Are there only scalp \"eeg\" channels? What other channels are present in the data?\n",
    "\n",
    "4. Calculate the mean of the midline channels. If the mean > 0, remove the DC offset.\n",
    "\n",
    "5. Reconstruct the time vector (in seconds) and plot the raw data of a selection of **frontal electrodes**. \n",
    "\n",
    "6. If required, downsample the data. Presuming that we are interested in frequencies up 40Hz, what is the lowest sampling frequency that we can apply?\n",
    "\n",
    "7. Lowpass filter the data, applying a cutoff of 40Hz. Compare the Cz signal before and after filtering.\n",
    "\n",
    "8. Annotate the continuous data, marking the following:\n",
    "- muscular artifacts\n",
    "- very large eye blinks \n",
    "\n",
    "9. Note two time intervals presenting these artifacts and present:\n",
    "        - the time course of these artifacts; pick channels that will best present the artifact.\n",
    "        - the spectrum of these artifacts\n",
    "        - the topography of the artifacts.\n",
    "\n",
    "10. Can you identify any particularly noisy electrodes? You can use the spectrum and visualisations to help. \n",
    "\n",
    "11. Could you come up with a measure based on **amplitude** to identify bad electrodes? \n",
    "\n",
    "12. Reference the data to the average reference, leaving out bad electrodes. Compare the midline signals before and after referencing.\n",
    "\n",
    "\n",
    " "
   ]
  },
  {
   "cell_type": "code",
   "execution_count": null,
   "id": "e117af4e-a310-4074-9f29-ccc819069cec",
   "metadata": {},
   "outputs": [],
   "source": []
  }
 ],
 "metadata": {
  "kernelspec": {
   "display_name": "Python 3 (ipykernel)",
   "language": "python",
   "name": "python3"
  },
  "language_info": {
   "codemirror_mode": {
    "name": "ipython",
    "version": 3
   },
   "file_extension": ".py",
   "mimetype": "text/x-python",
   "name": "python",
   "nbconvert_exporter": "python",
   "pygments_lexer": "ipython3",
   "version": "3.9.1"
  }
 },
 "nbformat": 4,
 "nbformat_minor": 5
}
